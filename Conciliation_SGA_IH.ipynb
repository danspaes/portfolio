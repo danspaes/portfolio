{
 "cells": [
  {
   "cell_type": "markdown",
   "metadata": {},
   "source": [
    "# Conciliation products SGA - Infohub"
   ]
  },
  {
   "cell_type": "markdown",
   "metadata": {},
   "source": [
    "## Contextualization:\n",
    "\n",
    "### SGA send the file INI061 to load the details of customer and their corresponding products to Infohub. The file specification is described below:\n",
    "\n",
    "#### DETAIL\n",
    "<table>\n",
    "<tr>\n",
    "<td>TM-DATE</td><td>NUMBER</td><td>08</td>\n",
    "</tr>\n",
    "<tr>\n",
    "<td>TM-HEURE</td><td>NUMBER</td><td>06</td>\n",
    "</tr>\n",
    "<tr>\n",
    "<td>NO-CLI</td><td>NUMBER</td><td>08</td>\n",
    "</tr>\n",
    "<tr>\n",
    "<td>NO-CPT-CLI</td><td>STRING</td><td>12</td>\n",
    "</tr>\n",
    "\n",
    "<tr>\n",
    "<td>GR-BLOC-PONCT</td>\n",
    "</tr>\n",
    "<tr>\n",
    "<td>NO-OFFRE-SPEC</td><td>NUMBER</td><td>05</td>\n",
    "</tr>\n",
    " <tr>\n",
    "<td>DT-DEB-OFFRE</td><td>NUMBER</td><td>08</td>\n",
    "</tr>\n",
    "<tr>\n",
    "<td>DT-FIN-OFFRE</td><td>NUMBER</td><td>08</td>\n",
    "</tr>\n",
    "<tr>\n",
    "<td>QTE-OFFRE-TOTAL</td><td>NUMBER</td><td>06</td>\n",
    "</tr>\n",
    "<tr>\n",
    "<td>QTE-OFFRE-VAR</td><td>NUMBER</td><td>06</td>\n",
    "</tr>\n",
    "<tr>\n",
    "<td>GR-PRODUCT</td>\n",
    "</tr>\n",
    "<tr>\n",
    "<td>NO-PROD</td><td>NUMBER</td><td>05</td>\n",
    "</tr>\n",
    " <tr>\n",
    "<td>NO-SEQ-PROD</td><td>NUMBER</td><td>23</td>\n",
    "</tr>\n",
    "<tr>\n",
    "<td>NO-SEQ-PARENT</td><td>NUMBER</td><td>16</td>\n",
    "</tr>\n",
    "<tr>\n",
    "<td>TYP-PROD</td><td>NUMBER</td><td>03</td>\n",
    "</tr>\n",
    "<tr>\n",
    "<td>CD-EXIS-COM</td><td>STRING</td><td>05</td>\n",
    "</tr>\n",
    "<tr>\n",
    "<td>DT-DEB-PROD</td><td>STRING</td><td>08</td>\n",
    "</tr>\n",
    "<tr>\n",
    "<td>DT-FIN-PROD</td><td>STRING</td><td>08</td>\n",
    "</tr>\n",
    "<tr>\n",
    "<td>CODE-APPROV</td><td>STRING</td><td>30</td>\n",
    "</tr>\n",
    "<tr>\n",
    "<td>NO-SERV-ASSOC</td><td>NUMBER</td><td>05</td>\n",
    "</tr>\n",
    "<tr>\n",
    "<td>DESC-PROD-FR</td><td>STRING</td><td>30</td>\n",
    "</tr>\n",
    "<tr>\n",
    "<td>DESC-PROD-EN</td><td>STRING</td><td>30</td>\n",
    "</tr>\n",
    "<tr>\n",
    "<td>CARACT-PROD OCCURS 10</td>\n",
    "</tr>\n",
    "<tr>\n",
    "<td>DESC-CARACT</td><td>STRING</td><td>30</td>\n",
    "</tr>\n",
    " <tr>\n",
    "<td>VAL-CARACT</td><td>STRING</td><td>64</td>\n",
    "</tr>\n",
    "<tr>\n",
    "<td>NO-FICHIER-PERFTP</td><td>NUMBER</td><td>01</td>\n",
    "</tr>\n",
    "<tr>\n",
    "<td>FILLER</td><td>STRING</td><td>21</td>\n",
    "</tr>\n",
    "</table>     \n",
    "\n",
    "#### HEADER                      \n",
    "\n",
    "<table>\n",
    "<tbody>\n",
    "<tr>\n",
    "<td>HEADER-DATE</td><td>NUMBER</td><td>08</td>\n",
    "</tr>\n",
    " <tr>\n",
    "<td>HEADER-HEURE</td><td>NUMBER</td><td>06</td>\n",
    "</tr>\n",
    "<tr>\n",
    "<td>FILLER</td><td>STRING</td><td>1186</td>\n",
    "</tr>\n",
    "</tbody>\n",
    "</table>\n",
    "                            \n",
    "#### FOOTER     \n",
    "\n",
    "<table>\n",
    "<tbody>\n",
    "<tr>\n",
    "<td>FOOTER-NB-ENRG</td><td>NUMBER</td><td>08</td>\n",
    "</tr>\n",
    " <tr>\n",
    "<td>FOOTER-TYPE</td><td>NUMBER</td><td>05</td>\n",
    "</tr>\n",
    "<tr>\n",
    "<td>FILLER</td><td>STRING</td><td>1187</td>\n",
    "</tr>\n",
    "</tbody>\n",
    "</table>\n"
   ]
  },
  {
   "cell_type": "markdown",
   "metadata": {},
   "source": [
    "### For dependency purposes, this notebook needs to be executed on the block order, any difference could result in a bad behaviour."
   ]
  },
  {
   "cell_type": "code",
   "execution_count": 1,
   "metadata": {
    "collapsed": true
   },
   "outputs": [],
   "source": [
    "# Block 1\n",
    "import pyodbc\n",
    "import pandas as pd\n",
    "from pandas.io import sql as psql\n",
    "import numpy as np"
   ]
  },
  {
   "cell_type": "markdown",
   "metadata": {},
   "source": [
    "## After importing the necessary packages, it imports the file to a dataframe (df_file). The next block also extracts a sorted list of customeraccountno to be used on the query"
   ]
  },
  {
   "cell_type": "code",
   "execution_count": 2,
   "metadata": {
    "collapsed": true
   },
   "outputs": [],
   "source": [
    "# Block 2\n",
    "#Generates a convert to string function, will be used to convert each field in string\n",
    "def conv_str(x):\n",
    "    return str(x)\n",
    "\n",
    "#Defines the file which will be read, it needs to be on the same directory as this notebook\n",
    "\n",
    "input_file = 'conciliation_sga_012018.csv'\n",
    "\n",
    "#Define columns size on the file\n",
    "col_widths = [8, 6, 8, 12, 8, 5, 8, 8, 6, 6, 5, 23, 16, 3, 5, 8, 8, 30, 5, 30, 30, 30, 64]\n",
    "\n",
    "#define column name to be named on dataframe\n",
    "col_name_file = ['TM_DATE', 'TM_HEURE', 'NO_CLI', 'NO_CPT_CLI', 'ID_CPT_INET', 'NO_OFFRE_SPEC', 'DT_DEB_OFFRE', 'DT_FIN_OFFRE', 'QTE_OFFRE_TOTAL', 'QTE_OFFRE_VAR', 'NO_PROD', 'NO_SEQ_PROD', 'NO_SEQ_PARENT', 'TYP_PROD', 'CD_EXIS_COM', 'DT_DEB_PROD', 'DT_FIN_PROD', 'CODE_APPROV', 'NO_SERV_ASSOC_A', 'DESC_PROD_FR', 'DESC_PROD_EN', 'DESC_CAR', 'VAL_CAR']\n",
    "\n",
    "#Convert all fields to string\n",
    "col_conv = {'TM_DATE': conv_str, 'TM_HEURE': conv_str, 'NO_CLI': conv_str, 'NO_CPT_CLI': conv_str, 'ID_CPT_INET': conv_str, 'NO_OFFRE_SPEC': conv_str, 'DT_DEB': conv_str, 'DT_FIN': conv_str, 'QTE_OFFRE_TOTAL': conv_str, 'QTE_OFFRE_VAR': conv_str, 'NO_PROD': conv_str, 'NO_SEQ_PROD': conv_str, 'NO_SEQ_PARENT': conv_str, 'TYP_PROD': conv_str, 'CD_EXIS_COM': conv_str, 'DT_DEB_PROD': conv_str, 'DT_FIN_PROD': conv_str, 'CODE_APPROV': conv_str, 'NO_SERV_ASSOC_A': conv_str, 'DESC_PROD_FR': conv_str, 'DESC_PROD_EN': conv_str, 'DESC_CAR': conv_str, 'VAL_CAR': conv_str}\n",
    "\n",
    "#Read file, filling the null as spaces\n",
    "df_file = pd.read_fwf(input_file, skiprows=1, widths=col_widths, names=col_name_file,  converters=col_conv).fillna(\" \")\n",
    "\n",
    "#select only the columns that exists in our databases\n",
    "col_name_db = ['NO_CLI', 'NO_CPT_CLI', 'ID_CPT_INET', 'NO_OFFRE_SPEC', 'DT_DEB_OFFRE', 'DT_FIN_OFFRE', 'QTE_OFFRE_TOTAL', 'QTE_OFFRE_VAR', 'NO_PROD', 'NO_SEQ_PROD', 'NO_SEQ_PARENT', 'TYP_PROD', 'CD_EXIS_COM', 'DT_DEB_PROD', 'DT_FIN_PROD', 'CODE_APPROV', 'NO_SERV_ASSOC_A', 'DESC_PROD_FR', 'DESC_PROD_EN']\n",
    "\n",
    "df_file = df_file[col_name_db]\n",
    "\n",
    "#sort unique values of customeraccountNumber and separate them by \" and , \n",
    "fil_qry = df_file['NO_CPT_CLI'].drop_duplicates().sort_values().str.cat(sep='\\',\\'')\n",
    "fil_qry = fil_qry[3:]+'\\''"
   ]
  },
  {
   "cell_type": "code",
   "execution_count": 3,
   "metadata": {},
   "outputs": [
    {
     "data": {
      "text/html": [
       "<div>\n",
       "<style>\n",
       "    .dataframe thead tr:only-child th {\n",
       "        text-align: right;\n",
       "    }\n",
       "\n",
       "    .dataframe thead th {\n",
       "        text-align: left;\n",
       "    }\n",
       "\n",
       "    .dataframe tbody tr th {\n",
       "        vertical-align: top;\n",
       "    }\n",
       "</style>\n",
       "<table border=\"1\" class=\"dataframe\">\n",
       "  <thead>\n",
       "    <tr style=\"text-align: right;\">\n",
       "      <th></th>\n",
       "      <th>NO_CLI</th>\n",
       "      <th>NO_CPT_CLI</th>\n",
       "      <th>ID_CPT_INET</th>\n",
       "      <th>NO_OFFRE_SPEC</th>\n",
       "      <th>DT_DEB_OFFRE</th>\n",
       "      <th>DT_FIN_OFFRE</th>\n",
       "      <th>QTE_OFFRE_TOTAL</th>\n",
       "      <th>QTE_OFFRE_VAR</th>\n",
       "      <th>NO_PROD</th>\n",
       "      <th>NO_SEQ_PROD</th>\n",
       "      <th>NO_SEQ_PARENT</th>\n",
       "      <th>TYP_PROD</th>\n",
       "      <th>CD_EXIS_COM</th>\n",
       "      <th>DT_DEB_PROD</th>\n",
       "      <th>DT_FIN_PROD</th>\n",
       "      <th>CODE_APPROV</th>\n",
       "      <th>NO_SERV_ASSOC_A</th>\n",
       "      <th>DESC_PROD_FR</th>\n",
       "      <th>DESC_PROD_EN</th>\n",
       "    </tr>\n",
       "  </thead>\n",
       "  <tbody>\n",
       "    <tr>\n",
       "      <th>0</th>\n",
       "      <td>53519876</td>\n",
       "      <td>535198760014</td>\n",
       "      <td>VLAAAALU</td>\n",
       "      <td>\u0000\u0000\u0000\u0000\u0000</td>\n",
       "      <td>\u0000\u0000\u0000\u0000\u0000\u0000\u0000\u0000</td>\n",
       "      <td>\u0000\u0000\u0000\u0000\u0000\u0000\u0000\u0000</td>\n",
       "      <td>\u0000\u0000\u0000\u0000\u0000\u0000</td>\n",
       "      <td>\u0000\u0000\u0000\u0000\u0000\u0000</td>\n",
       "      <td>714</td>\n",
       "      <td>VLAAAALU-1</td>\n",
       "      <td></td>\n",
       "      <td>3</td>\n",
       "      <td>false</td>\n",
       "      <td>20170612</td>\n",
       "      <td></td>\n",
       "      <td>05</td>\n",
       "      <td>1130</td>\n",
       "      <td>ACCES ILLICO.TV</td>\n",
       "      <td>ILLICO.TV ACCESS</td>\n",
       "    </tr>\n",
       "    <tr>\n",
       "      <th>1</th>\n",
       "      <td>53519876</td>\n",
       "      <td>535198760014</td>\n",
       "      <td>VLAAAALU</td>\n",
       "      <td>\u0000\u0000\u0000\u0000\u0000</td>\n",
       "      <td>\u0000\u0000\u0000\u0000\u0000\u0000\u0000\u0000</td>\n",
       "      <td>\u0000\u0000\u0000\u0000\u0000\u0000\u0000\u0000</td>\n",
       "      <td>\u0000\u0000\u0000\u0000\u0000\u0000</td>\n",
       "      <td>\u0000\u0000\u0000\u0000\u0000\u0000</td>\n",
       "      <td>738</td>\n",
       "      <td>VLAAAALU-2</td>\n",
       "      <td></td>\n",
       "      <td>69</td>\n",
       "      <td>false</td>\n",
       "      <td>20170612</td>\n",
       "      <td></td>\n",
       "      <td>05</td>\n",
       "      <td>0</td>\n",
       "      <td>CHAINES ILLICO</td>\n",
       "      <td>ILLICO CHANNELS</td>\n",
       "    </tr>\n",
       "    <tr>\n",
       "      <th>2</th>\n",
       "      <td>54765650</td>\n",
       "      <td>547656500014</td>\n",
       "      <td>VLAAABZO</td>\n",
       "      <td>\u0000\u0000\u0000\u0000\u0000</td>\n",
       "      <td>\u0000\u0000\u0000\u0000\u0000\u0000\u0000\u0000</td>\n",
       "      <td>\u0000\u0000\u0000\u0000\u0000\u0000\u0000\u0000</td>\n",
       "      <td>\u0000\u0000\u0000\u0000\u0000\u0000</td>\n",
       "      <td>\u0000\u0000\u0000\u0000\u0000\u0000</td>\n",
       "      <td>1017</td>\n",
       "      <td>VLAAABZO-2</td>\n",
       "      <td></td>\n",
       "      <td>3</td>\n",
       "      <td>false</td>\n",
       "      <td>20171031</td>\n",
       "      <td></td>\n",
       "      <td>01</td>\n",
       "      <td>3678</td>\n",
       "      <td>PLAN DE DEBRANCHEMENT</td>\n",
       "      <td>DISCONNECTION PLAN</td>\n",
       "    </tr>\n",
       "    <tr>\n",
       "      <th>3</th>\n",
       "      <td>54765650</td>\n",
       "      <td>547656500014</td>\n",
       "      <td>VLAAABZO</td>\n",
       "      <td>\u0000\u0000\u0000\u0000\u0000</td>\n",
       "      <td>\u0000\u0000\u0000\u0000\u0000\u0000\u0000\u0000</td>\n",
       "      <td>\u0000\u0000\u0000\u0000\u0000\u0000\u0000\u0000</td>\n",
       "      <td>\u0000\u0000\u0000\u0000\u0000\u0000</td>\n",
       "      <td>\u0000\u0000\u0000\u0000\u0000\u0000</td>\n",
       "      <td>1015</td>\n",
       "      <td>VLAAABZO-3</td>\n",
       "      <td></td>\n",
       "      <td>90</td>\n",
       "      <td>false</td>\n",
       "      <td>20171031</td>\n",
       "      <td></td>\n",
       "      <td>05</td>\n",
       "      <td>3827</td>\n",
       "      <td>DEBR SERVICE TV</td>\n",
       "      <td>DISC TV SERVICE</td>\n",
       "    </tr>\n",
       "    <tr>\n",
       "      <th>4</th>\n",
       "      <td>54765650</td>\n",
       "      <td>547656500014</td>\n",
       "      <td>VLAAABZO</td>\n",
       "      <td>\u0000\u0000\u0000\u0000\u0000</td>\n",
       "      <td>\u0000\u0000\u0000\u0000\u0000\u0000\u0000\u0000</td>\n",
       "      <td>\u0000\u0000\u0000\u0000\u0000\u0000\u0000\u0000</td>\n",
       "      <td>\u0000\u0000\u0000\u0000\u0000\u0000</td>\n",
       "      <td>\u0000\u0000\u0000\u0000\u0000\u0000</td>\n",
       "      <td>1016</td>\n",
       "      <td>VLAAABZO-4</td>\n",
       "      <td></td>\n",
       "      <td>90</td>\n",
       "      <td>false</td>\n",
       "      <td>20171031</td>\n",
       "      <td></td>\n",
       "      <td>05</td>\n",
       "      <td>3828</td>\n",
       "      <td>DEBR. SERVICE INTERNET</td>\n",
       "      <td>DISC. INTERNET SERVICE</td>\n",
       "    </tr>\n",
       "  </tbody>\n",
       "</table>\n",
       "</div>"
      ],
      "text/plain": [
       "     NO_CLI    NO_CPT_CLI ID_CPT_INET NO_OFFRE_SPEC DT_DEB_OFFRE DT_FIN_OFFRE  \\\n",
       "0  53519876  535198760014    VLAAAALU         \u0000\u0000\u0000\u0000\u0000     \u0000\u0000\u0000\u0000\u0000\u0000\u0000\u0000     \u0000\u0000\u0000\u0000\u0000\u0000\u0000\u0000   \n",
       "1  53519876  535198760014    VLAAAALU         \u0000\u0000\u0000\u0000\u0000     \u0000\u0000\u0000\u0000\u0000\u0000\u0000\u0000     \u0000\u0000\u0000\u0000\u0000\u0000\u0000\u0000   \n",
       "2  54765650  547656500014    VLAAABZO         \u0000\u0000\u0000\u0000\u0000     \u0000\u0000\u0000\u0000\u0000\u0000\u0000\u0000     \u0000\u0000\u0000\u0000\u0000\u0000\u0000\u0000   \n",
       "3  54765650  547656500014    VLAAABZO         \u0000\u0000\u0000\u0000\u0000     \u0000\u0000\u0000\u0000\u0000\u0000\u0000\u0000     \u0000\u0000\u0000\u0000\u0000\u0000\u0000\u0000   \n",
       "4  54765650  547656500014    VLAAABZO         \u0000\u0000\u0000\u0000\u0000     \u0000\u0000\u0000\u0000\u0000\u0000\u0000\u0000     \u0000\u0000\u0000\u0000\u0000\u0000\u0000\u0000   \n",
       "\n",
       "  QTE_OFFRE_TOTAL QTE_OFFRE_VAR NO_PROD NO_SEQ_PROD NO_SEQ_PARENT TYP_PROD  \\\n",
       "0          \u0000\u0000\u0000\u0000\u0000\u0000        \u0000\u0000\u0000\u0000\u0000\u0000     714  VLAAAALU-1                      3   \n",
       "1          \u0000\u0000\u0000\u0000\u0000\u0000        \u0000\u0000\u0000\u0000\u0000\u0000     738  VLAAAALU-2                     69   \n",
       "2          \u0000\u0000\u0000\u0000\u0000\u0000        \u0000\u0000\u0000\u0000\u0000\u0000    1017  VLAAABZO-2                      3   \n",
       "3          \u0000\u0000\u0000\u0000\u0000\u0000        \u0000\u0000\u0000\u0000\u0000\u0000    1015  VLAAABZO-3                     90   \n",
       "4          \u0000\u0000\u0000\u0000\u0000\u0000        \u0000\u0000\u0000\u0000\u0000\u0000    1016  VLAAABZO-4                     90   \n",
       "\n",
       "  CD_EXIS_COM DT_DEB_PROD DT_FIN_PROD CODE_APPROV NO_SERV_ASSOC_A  \\\n",
       "0       false    20170612                      05            1130   \n",
       "1       false    20170612                      05               0   \n",
       "2       false    20171031                      01            3678   \n",
       "3       false    20171031                      05            3827   \n",
       "4       false    20171031                      05            3828   \n",
       "\n",
       "             DESC_PROD_FR            DESC_PROD_EN  \n",
       "0         ACCES ILLICO.TV        ILLICO.TV ACCESS  \n",
       "1          CHAINES ILLICO         ILLICO CHANNELS  \n",
       "2   PLAN DE DEBRANCHEMENT      DISCONNECTION PLAN  \n",
       "3         DEBR SERVICE TV         DISC TV SERVICE  \n",
       "4  DEBR. SERVICE INTERNET  DISC. INTERNET SERVICE  "
      ]
     },
     "execution_count": 3,
     "metadata": {},
     "output_type": "execute_result"
    }
   ],
   "source": [
    "df_file.head()"
   ]
  },
  {
   "cell_type": "code",
   "execution_count": null,
   "metadata": {
    "collapsed": true
   },
   "outputs": [],
   "source": [
    "# Block 3\n",
    "#connecting to your database through ODBC\n",
    "cnxstr = 'DSN=IHP1;UID=paesdan;PWD=paeshp1'"
   ]
  },
  {
   "cell_type": "markdown",
   "metadata": {},
   "source": [
    "### Query to extract records from IHP1 on the same layout as the database where processid 6 = SET CUSTOMERACCOUNTPRODUCT and 17 = SET_PRODUCTCAPACITY"
   ]
  },
  {
   "cell_type": "code",
   "execution_count": null,
   "metadata": {
    "scrolled": true
   },
   "outputs": [],
   "source": [
    "# Block 4\n",
    "qry = \"\"\"SELECT DISTINCT \n",
    "CUST.CUSTOMERID AS NO_CLI,\n",
    "CUST.CUSTOMERACCOUNTNO AS NO_CPT_CLI,\n",
    "FIRST_VALUE (CASE WHEN PDCT_CAR.CARACTERISTICNAME = \\'ID_COMPTE_INTERNET\\'    THEN PDCT_CAR.CARACTERISTICVALUE ELSE NULL END) IGNORE NULLS OVER (PARTITION BY PDCT.PRODUCTID, PDCT.PARENTPRODUCTID) AS ID_CPT_INET,\n",
    "FIRST_VALUE (CASE WHEN PDCT_CAR.CARACTERISTICNAME = \\'NUMERO_OFFRE_SPECIALE\\' THEN PDCT_CAR.CARACTERISTICVALUE ELSE NULL END) IGNORE NULLS OVER (PARTITION BY PDCT.PRODUCTID, PDCT.PARENTPRODUCTID) AS NO_OFFRE_SPEC,\n",
    "CASE WHEN FIRST_VALUE (CASE WHEN PDCT_CAR.CARACTERISTICNAME = \\'NUMERO_OFFRE_SPECIALE\\' THEN PDCT_CAR.CARACTERISTICVALUE ELSE NULL END) IGNORE NULLS OVER (PARTITION BY PDCT.PRODUCTID, PDCT.PARENTPRODUCTID) is not null THEN PDCT.PRODUCTEFFECTIVESTARTDATE ELSE NULL END AS DT_DEB_OFFRE,                                                                                                    \n",
    "CASE WHEN FIRST_VALUE (CASE WHEN PDCT_CAR.CARACTERISTICNAME = \\'NUMERO_OFFRE_SPECIALE\\' THEN PDCT_CAR.CARACTERISTICVALUE ELSE NULL END) IGNORE NULLS OVER (PARTITION BY PDCT.PRODUCTID, PDCT.PARENTPRODUCTID) is not null THEN PDCT.PRODUCTEFFECTIVEENDDATE ELSE NULL END AS DT_FIN_OFFRE,                                                                                                    \n",
    "FIRST_VALUE (CASE WHEN PDCT_CAR.CARACTERISTICNAME = \\'QTE_OFFRE_TOTAL\\'       THEN PDCT_CAR.CARACTERISTICVALUE ELSE NULL END) IGNORE NULLS OVER (PARTITION BY PDCT.PRODUCTID, PDCT.PARENTPRODUCTID) AS QTE_OFFRE_TOTAL,\n",
    "FIRST_VALUE (CASE WHEN PDCT_CAR.CARACTERISTICNAME = \\'QTE_OFFRE_VARIATION\\'   THEN PDCT_CAR.CARACTERISTICVALUE ELSE NULL END) IGNORE NULLS OVER (PARTITION BY PDCT.PRODUCTID, PDCT.PARENTPRODUCTID) AS QTE_OFFRE_VAR,\n",
    "FIRST_VALUE (CASE WHEN PDCT_CAR.CARACTERISTICNAME = \\'SGA_NUMERO_COMPOSANTE\\' THEN PDCT_CAR.CARACTERISTICVALUE ELSE NULL END) IGNORE NULLS OVER (PARTITION BY PDCT.PRODUCTID, PDCT.PARENTPRODUCTID) AS NO_PROD,\n",
    "PDCT.PRODUCTID AS NO_SEQ_PROD,                                                                                     \n",
    "PDCT.PARENTPRODUCTID AS NO_SEQ_PARENT,                                                                             \n",
    "FIRST_VALUE (CASE WHEN PDCT_CAR.CARACTERISTICNAME = \\'SGA_TYPE_COMPOSANTE\\'   THEN PDCT_CAR.CARACTERISTICVALUE ELSE NULL END) IGNORE NULLS OVER (PARTITION BY PDCT.PRODUCTID, PDCT.PARENTPRODUCTID) AS TYP_PROD,\n",
    "FIRST_VALUE (CASE WHEN PDCT_CAR.CARACTERISTICNAME = \\'COMMANDE_EN_COURS\\'     THEN PDCT_CAR.CARACTERISTICVALUE ELSE NULL END) IGNORE NULLS OVER (PARTITION BY PDCT.PRODUCTID, PDCT.PARENTPRODUCTID) AS CD_EXIS_COM, \n",
    "CASE WHEN FIRST_VALUE (CASE WHEN PDCT_CAR.CARACTERISTICNAME = \\'NUMERO_OFFRE_SPECIALE\\' THEN PDCT_CAR.CARACTERISTICVALUE ELSE NULL END) IGNORE NULLS OVER (PARTITION BY PDCT.PRODUCTID, PDCT.PARENTPRODUCTID) is null THEN PDCT.PRODUCTEFFECTIVESTARTDATE ELSE NULL END AS DT_DEB_PROD,                                                                                                    \n",
    "CASE WHEN FIRST_VALUE (CASE WHEN PDCT_CAR.CARACTERISTICNAME = \\'NUMERO_OFFRE_SPECIALE\\' THEN PDCT_CAR.CARACTERISTICVALUE ELSE NULL END) IGNORE NULLS OVER (PARTITION BY PDCT.PRODUCTID, PDCT.PARENTPRODUCTID) is null THEN PDCT.PRODUCTEFFECTIVEENDDATE ELSE NULL END AS DT_FIN_PROD,\n",
    "PDCT.PRODUCTSTATUS AS CODE_APPROV,                                                                                                     \n",
    "FIRST_VALUE (CASE WHEN PDCT_CAR.CARACTERISTICNAME = \\'SGA_NUMERO_SERVICE\\'    THEN PDCT_CAR.CARACTERISTICVALUE ELSE NULL END) IGNORE NULLS OVER (PARTITION BY PDCT.PRODUCTID, PDCT.PARENTPRODUCTID) AS NO_SERV_ASSOC_A,\n",
    "FIRST_VALUE (CASE WHEN PDCT_CAR.CARACTERISTICNAME = \\'DESCRIPTION_FRANCAIS\\'  THEN PDCT_CAR.CARACTERISTICVALUE ELSE NULL END) IGNORE NULLS OVER (PARTITION BY PDCT.PRODUCTID, PDCT.PARENTPRODUCTID) AS DESC_PROD_FR,\n",
    "FIRST_VALUE (CASE WHEN PDCT_CAR.CARACTERISTICNAME = \\'DESCRIPTION_ANGLAIS\\'   THEN PDCT_CAR.CARACTERISTICVALUE ELSE NULL END) IGNORE NULLS OVER (PARTITION BY PDCT.PRODUCTID, PDCT.PARENTPRODUCTID) AS DESC_PROD_EN \n",
    "FROM IHPRODUCT PDCT, IHPRODUCTCARACTERISTIC PDCT_CAR, IHCUSTOMERACCOUNT CUST  WHERE \n",
    "PDCT_CAR.PRODUCTRECID = PDCT.PRODUCTRECID AND\n",
    "CUST.CUSTOMERACCOUNTNO = PDCT.CUSTOMERACCOUNTNO AND \n",
    "CUST.IHEFFECTIVEENDTIMESTAMP IS NULL AND \n",
    "PDCT.IHEFFECTIVEENDTIMESTAMP IS NULL AND  \n",
    "PDCT.CUSTOMERACCOUNTNO IN (\"\"\"+fil_qry+');'\n",
    "qry = qry.replace('\\n', ' ')"
   ]
  },
  {
   "cell_type": "markdown",
   "metadata": {},
   "source": [
    "### Imports the data available to the max processlotid per customeraccountno. Since the max was not made by customer. It could be possible that not all the customeraccountno are on the query. The output is stored on a dataframe (df_db). "
   ]
  },
  {
   "cell_type": "code",
   "execution_count": null,
   "metadata": {
    "collapsed": true
   },
   "outputs": [],
   "source": [
    "#Block 5\n",
    "#Open a connection to the mentioned database\n",
    "cnxn = pyodbc.connect(cnxstr)\n",
    "#Open a cursor to input the data\n",
    "df_db = psql.read_sql(qry, cnxn)\n",
    "#close connection to database\n",
    "cnxn.close()\n",
    "df_db = df_db.fillna(0)"
   ]
  },
  {
   "cell_type": "markdown",
   "metadata": {},
   "source": [
    "### Order both dataframes (DF_DB for infohub database data and DF_FILE for SGA data) by NO_CPT_CLI and ID_CPT_INET"
   ]
  },
  {
   "cell_type": "code",
   "execution_count": null,
   "metadata": {
    "collapsed": true
   },
   "outputs": [],
   "source": [
    "#block 6\n",
    "df_db = df_db.sort_values(by=['NO_CPT_CLI', 'ID_CPT_INET'])\n",
    "df_file = df_file.sort_values(by=['NO_CPT_CLI', 'ID_CPT_INET'])"
   ]
  },
  {
   "cell_type": "code",
   "execution_count": null,
   "metadata": {},
   "outputs": [],
   "source": [
    "#block 7\n",
    "df_db[['NO_CPT_CLI', 'ID_CPT_INET']].nunique() #Counts records on the database based on account and internet account  "
   ]
  },
  {
   "cell_type": "code",
   "execution_count": null,
   "metadata": {},
   "outputs": [],
   "source": [
    "df_file[['NO_CPT_CLI', 'ID_CPT_INET']].nunique() # Count records on the file"
   ]
  },
  {
   "cell_type": "markdown",
   "metadata": {},
   "source": [
    "### Since SGA can send data, which in our database is treated as historical data, for example, the offers received were already closed and purged on our database. For some cases it is Ok to have more rows on their file than in our database."
   ]
  },
  {
   "cell_type": "code",
   "execution_count": null,
   "metadata": {
    "collapsed": true
   },
   "outputs": [],
   "source": [
    "df_file_match = df_file.where(df_file['NO_CPT_CLI'].isin(df_db['NO_CPT_CLI']))\n",
    "df_file_match\n",
    "#df_file_match.loc[3156]#['NO_CPT_CLI'].isin(df_db['NO_CPT_CLI'])\n",
    "#df_file_match[~df_file_match['NO_CPT_CLI'].isin(df_db['NO_CPT_CLI'])].dropna()\n",
    "#df_file_match[['NO_CPT_CLI', 'ID_CPT_INET']].nunique() "
   ]
  },
  {
   "cell_type": "code",
   "execution_count": null,
   "metadata": {
    "collapsed": true
   },
   "outputs": [],
   "source": [
    "# to filter the records on the file:\n",
    "#df_file[df_file['NO_CPT_CLI'] == '500023170011'] \n",
    "df_db['NO_OFFRE_SPEC'].drop_duplicates()"
   ]
  },
  {
   "cell_type": "code",
   "execution_count": null,
   "metadata": {
    "collapsed": true
   },
   "outputs": [],
   "source": [
    "\n",
    "#qry='SELECT * FROM IHPRODUCT WHERE OFFERID IS NOT NULL AND CUSTOMERACCOUNTNO IN ('+fil_qry+');' \n",
    "qry =\"select * from ihproductcaracteristic where CUSTOMERACCOUNTNO = '500023170011' and CARACTERISTICNAME = 'NUMERO_OFFRE_SPECIALE';\"\n",
    "#Open a connection to the mentioned database\n",
    "cnxn = pyodbc.connect(cnxstr)\n",
    "#Open a cursor to input the data\n",
    "cursor = cnxn.cursor()\n",
    "\n",
    "#Generate dataframe based on the connection and query \n",
    "df_db = psql.read_sql(qry, cnxn)\n",
    "#close connection to database\n",
    "cnxn.close()\n",
    "df_tst = df_db.fillna(0)"
   ]
  },
  {
   "cell_type": "code",
   "execution_count": null,
   "metadata": {
    "collapsed": true
   },
   "outputs": [],
   "source": [
    "df_tst"
   ]
  },
  {
   "cell_type": "code",
   "execution_count": null,
   "metadata": {
    "collapsed": true
   },
   "outputs": [],
   "source": []
  }
 ],
 "metadata": {
  "kernelspec": {
   "display_name": "Python 3",
   "language": "python",
   "name": "python3"
  },
  "language_info": {
   "codemirror_mode": {
    "name": "ipython",
    "version": 3
   },
   "file_extension": ".py",
   "mimetype": "text/x-python",
   "name": "python",
   "nbconvert_exporter": "python",
   "pygments_lexer": "ipython3",
   "version": "3.6.1"
  }
 },
 "nbformat": 4,
 "nbformat_minor": 2
}
