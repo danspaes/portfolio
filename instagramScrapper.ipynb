{
 "cells": [
  {
   "cell_type": "code",
   "execution_count": null,
   "metadata": {},
   "outputs": [],
   "source": [
    "import pandas as pd\n",
    "import json\n",
    "import requests"
   ]
  },
  {
   "cell_type": "code",
   "execution_count": null,
   "metadata": {},
   "outputs": [],
   "source": [
    "#Instagram connector\n",
    "client_id = None\n",
    "client_secret = None\n",
    "red_url='http://localhost:8888'\n",
    "payloadToken={'client_id': client_id, \\\n",
    "             'client_secret': client_secret, \\\n",
    "             'redirect_uri' : red_url, \\\n",
    "             'response_type': 'token'}\n",
    "resp_Token  = requests.get('https://api.instagram.com/oauth/authorize/', params=payloadToken)"
   ]
  },
  {
   "cell_type": "code",
   "execution_count": null,
   "metadata": {},
   "outputs": [],
   "source": [
    "#query by endpoint\n",
    "\n",
    "token = None\n",
    "hashtag = 'husky'\n",
    "fileName = 'path+filename'\n",
    "delimiter = '|'\n",
    "\n",
    "payloadSearch={'access_token':token, \\\n",
    "              'q':hashtag}\n",
    "\n",
    "resp_hashtag = requests.get('https://api.instagram.com/v1/tags/search', params=payloadSearch)\n",
    "\n",
    "json_data = json.loads(resp_hashtag.text)\n",
    "\n",
    "name,media_count = [],[]\n",
    "\n",
    "for result in json_data['data']:\n",
    "    name.append(result['name'])\n",
    "    media_count.append(result['media_count'])\n",
    "df = pd.DataFrame({'tag_name':name, 'used_amount':media_count}) #T is for transpose\n",
    "df.sort_values(['used_amount'], ascending=False)"
    "\n",
    "#flatfile generation\n",
    "df.to_csv(fileName, sep=delimiter, header=True, index = False)\n"
   ]
  },
  {
   "cell_type": "code",
   "execution_count": null,
   "metadata": {},
   "outputs": [],
   "source": []
  },
  {
   "cell_type": "code",
   "execution_count": null,
   "metadata": {},
   "outputs": [],
   "source": []
  },
  {
   "cell_type": "code",
   "execution_count": null,
   "metadata": {},
   "outputs": [],
   "source": []
  }
 ],
 "metadata": {
  "kernelspec": {
   "display_name": "Python 3",
   "language": "python",
   "name": "python3"
  },
  "language_info": {
   "codemirror_mode": {
    "name": "ipython",
    "version": 3
   },
   "file_extension": ".py",
   "mimetype": "text/x-python",
   "name": "python",
   "nbconvert_exporter": "python",
   "pygments_lexer": "ipython3",
   "version": "3.6.5"
  }
 },
 "nbformat": 4,
 "nbformat_minor": 2
}
