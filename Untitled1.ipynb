{
 "cells": [
  {
   "cell_type": "code",
   "execution_count": 2,
   "metadata": {},
   "outputs": [],
   "source": [
    "# Block 1\n",
    "import pyodbc\n",
    "import pandas as pd\n",
    "from pandas.io import sql as psql\n",
    "import numpy as np\n",
    "\n",
    "qry =\"select TO_CHAR(PRODUCTRECID) from IHPRODUCTCARACTERISTIC PDCT_CAR where PDCT_CAR.CARACTERISTICNAME = 'NUMERO_OFFRE_SPECIALE';\"\n",
    "\n",
    "\n",
    "cnxstr = 'DSN=IHP1;UID=paesdan;PWD=paeshp1'\n",
    "#Open a connection to the mentioned database\n",
    "cnxn = pyodbc.connect(cnxstr)\n",
    "#Open a cursor to input the data\n",
    "cursor = cnxn.cursor()\n",
    "\n",
    "#Generate dataframe based on the connection and query \n",
    "df_db = psql.read_sql(qry, cnxn)\n",
    "#close connection to database\n",
    "cnxn.close()\n",
    "df_tst = df_db.fillna(0)\n",
    "\n",
    "#Block 5\n",
    "#Open a connection to the mentioned database\n",
    "cnxn = pyodbc.connect(cnxstr)\n",
    "#Open a cursor to input the data\n",
    "df_db = psql.read_sql(qry, cnxn)\n",
    "#close connection to database\n",
    "cnxn.close()\n",
    "df_db = df_db.fillna(0)"
   ]
  },
  {
   "cell_type": "code",
   "execution_count": null,
   "metadata": {
    "collapsed": true
   },
   "outputs": [],
   "source": []
  }
 ],
 "metadata": {
  "kernelspec": {
   "display_name": "Python 3",
   "language": "python",
   "name": "python3"
  },
  "language_info": {
   "codemirror_mode": {
    "name": "ipython",
    "version": 3
   },
   "file_extension": ".py",
   "mimetype": "text/x-python",
   "name": "python",
   "nbconvert_exporter": "python",
   "pygments_lexer": "ipython3",
   "version": "3.6.1"
  }
 },
 "nbformat": 4,
 "nbformat_minor": 2
}
